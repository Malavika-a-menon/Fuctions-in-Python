{
 "cells": [
  {
   "cell_type": "code",
   "execution_count": null,
   "id": "e3c16398",
   "metadata": {},
   "outputs": [],
   "source": [
    "#Write a Python function to find the Max of three numbers\n",
    "def max(a,b,c):\n",
    "    if(a>=b)and(a>=c):\n",
    "        return a\n",
    "    elif(b>=a)and(b>=c):\n",
    "        return b\n",
    "    else:\n",
    "        return c\n",
    "a=int(input())\n",
    "b=int(input())\n",
    "c=int(input())\n",
    "print('max is',max(a,b,c))"
   ]
  },
  {
   "cell_type": "code",
   "execution_count": null,
   "id": "aafe34cf",
   "metadata": {},
   "outputs": [],
   "source": [
    "#Write a Python function to sum all the numbers in a list.\n",
    "Sample_List=[18, 12, 30,10, 7]\n",
    "total=sum(Sample_List)\n",
    "print(total)"
   ]
  },
  {
   "cell_type": "code",
   "execution_count": null,
   "id": "d1a5a78a",
   "metadata": {},
   "outputs": [],
   "source": [
    "#Write a Python function that checks whether a passed string is palindrome or not.\n",
    "def isPalindrome(s):\n",
    "    return s == s[::-1]\n",
    "\n",
    "s = \"malayalam\"\n",
    "ans = isPalindrome(s)\n",
    "\n",
    "if ans:\n",
    "    print(\"Yes\")\n",
    "else:\n",
    "    print(\"No\")"
   ]
  },
  {
   "cell_type": "code",
   "execution_count": null,
   "id": "ad9d85e3",
   "metadata": {},
   "outputs": [],
   "source": [
    "#Write a python function to find to find the power of a number using recursion\n",
    "def pow(N, P):\n",
    "    if P == 0:\n",
    "        return 1\n",
    "    return (N*pow(N, P-1))\n",
    "print(pow(2, 5 ))"
   ]
  },
  {
   "cell_type": "code",
   "execution_count": 1,
   "id": "68309e6e",
   "metadata": {},
   "outputs": [
    {
     "name": "stdout",
     "output_type": "stream",
     "text": [
      "1\n",
      "20\n",
      "[2, 4, 6, 8, 10, 12, 14, 16, 18, 20]\n"
     ]
    }
   ],
   "source": [
    "#Write a python function that returns a list of even numbers between two limits. The limits should be passed as arguments  and the list of even numbers from the function should return.\n",
    "a=int(input())\n",
    "b=int(input())\n",
    "list1=[]\n",
    "def even(x,y):\n",
    "    for i in range(a,b+1):\n",
    "        if i%2==0:\n",
    "            list1.append(i)\n",
    "    return list1\n",
    "print(even(a,b))\n",
    "            "
   ]
  },
  {
   "cell_type": "code",
   "execution_count": null,
   "id": "b35243a8",
   "metadata": {},
   "outputs": [],
   "source": []
  }
 ],
 "metadata": {
  "kernelspec": {
   "display_name": "Python 3 (ipykernel)",
   "language": "python",
   "name": "python3"
  },
  "language_info": {
   "codemirror_mode": {
    "name": "ipython",
    "version": 3
   },
   "file_extension": ".py",
   "mimetype": "text/x-python",
   "name": "python",
   "nbconvert_exporter": "python",
   "pygments_lexer": "ipython3",
   "version": "3.9.7"
  }
 },
 "nbformat": 4,
 "nbformat_minor": 5
}
